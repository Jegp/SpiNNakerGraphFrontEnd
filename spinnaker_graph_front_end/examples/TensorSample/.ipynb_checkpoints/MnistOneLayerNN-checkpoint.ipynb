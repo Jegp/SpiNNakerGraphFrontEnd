{
 "cells": [
  {
   "cell_type": "code",
   "execution_count": 3,
   "metadata": {},
   "outputs": [
    {
     "name": "stderr",
     "output_type": "stream",
     "text": [
      "WARNING: Logging before flag parsing goes to stderr.\n",
      "W0703 21:56:41.909167  5648 deprecation.py:323] From <ipython-input-3-95368227c13e>:5: read_data_sets (from tensorflow.contrib.learn.python.learn.datasets.mnist) is deprecated and will be removed in a future version.\n",
      "Instructions for updating:\n",
      "Please use alternatives such as official/mnist/dataset.py from tensorflow/models.\n",
      "W0703 21:56:41.924787  5648 deprecation.py:323] From C:\\Users\\konst\\Anaconda3\\lib\\site-packages\\tensorflow\\contrib\\learn\\python\\learn\\datasets\\mnist.py:260: maybe_download (from tensorflow.contrib.learn.python.learn.datasets.base) is deprecated and will be removed in a future version.\n",
      "Instructions for updating:\n",
      "Please write your own downloading logic.\n",
      "W0703 21:56:41.924787  5648 deprecation.py:323] From C:\\Users\\konst\\Anaconda3\\lib\\site-packages\\tensorflow\\contrib\\learn\\python\\learn\\datasets\\base.py:252: _internal_retry.<locals>.wrap.<locals>.wrapped_fn (from tensorflow.contrib.learn.python.learn.datasets.base) is deprecated and will be removed in a future version.\n",
      "Instructions for updating:\n",
      "Please use urllib or similar directly.\n",
      "W0703 21:56:43.084413  5648 deprecation.py:323] From C:\\Users\\konst\\Anaconda3\\lib\\site-packages\\tensorflow\\contrib\\learn\\python\\learn\\datasets\\mnist.py:262: extract_images (from tensorflow.contrib.learn.python.learn.datasets.mnist) is deprecated and will be removed in a future version.\n",
      "Instructions for updating:\n",
      "Please use tf.data to implement this functionality.\n"
     ]
    },
    {
     "name": "stdout",
     "output_type": "stream",
     "text": [
      "Successfully downloaded train-images-idx3-ubyte.gz 9912422 bytes.\n",
      "Extracting MNIST_data/train-images-idx3-ubyte.gz\n"
     ]
    },
    {
     "name": "stderr",
     "output_type": "stream",
     "text": [
      "W0703 21:56:43.391147  5648 deprecation.py:323] From C:\\Users\\konst\\Anaconda3\\lib\\site-packages\\tensorflow\\contrib\\learn\\python\\learn\\datasets\\mnist.py:267: extract_labels (from tensorflow.contrib.learn.python.learn.datasets.mnist) is deprecated and will be removed in a future version.\n",
      "Instructions for updating:\n",
      "Please use tf.data to implement this functionality.\n",
      "W0703 21:56:43.394140  5648 deprecation.py:323] From C:\\Users\\konst\\Anaconda3\\lib\\site-packages\\tensorflow\\contrib\\learn\\python\\learn\\datasets\\mnist.py:110: dense_to_one_hot (from tensorflow.contrib.learn.python.learn.datasets.mnist) is deprecated and will be removed in a future version.\n",
      "Instructions for updating:\n",
      "Please use tf.one_hot on tensors.\n"
     ]
    },
    {
     "name": "stdout",
     "output_type": "stream",
     "text": [
      "Successfully downloaded train-labels-idx1-ubyte.gz 28881 bytes.\n",
      "Extracting MNIST_data/train-labels-idx1-ubyte.gz\n"
     ]
    },
    {
     "name": "stderr",
     "output_type": "stream",
     "text": [
      "W0703 21:56:43.806960  5648 deprecation.py:323] From C:\\Users\\konst\\Anaconda3\\lib\\site-packages\\tensorflow\\contrib\\learn\\python\\learn\\datasets\\mnist.py:290: DataSet.__init__ (from tensorflow.contrib.learn.python.learn.datasets.mnist) is deprecated and will be removed in a future version.\n",
      "Instructions for updating:\n",
      "Please use alternatives such as official/mnist/dataset.py from tensorflow/models.\n"
     ]
    },
    {
     "name": "stdout",
     "output_type": "stream",
     "text": [
      "Successfully downloaded t10k-images-idx3-ubyte.gz 1648877 bytes.\n",
      "Extracting MNIST_data/t10k-images-idx3-ubyte.gz\n",
      "Successfully downloaded t10k-labels-idx1-ubyte.gz 4542 bytes.\n",
      "Extracting MNIST_data/t10k-labels-idx1-ubyte.gz\n"
     ]
    }
   ],
   "source": [
    "import tensorflow as tf\n",
    "from tensorflow.examples.tutorials.mnist import input_data\n",
    "import numpy as np\n",
    "\n",
    "mnist = input_data.read_data_sets(\"MNIST_data/\", one_hot=True)\n",
    "\n",
    "# Initialize variables\n",
    "\n",
    "# None will be the size of the batch\n",
    "\n",
    "X = tf.placeholder(tf.float32, [None, 28, 28, 1])\n",
    "\n",
    "W = tf.Variable(tf.zeros([784, 10]))\n",
    "\n",
    "b = tf.Variable(tf.zeros([10]))\n",
    "\n",
    "init = tf.global_variables_initializer()\n",
    "\n",
    "XX = tf.reshape(X, [-1, 784])\n",
    "\n",
    "mul_res = tf.matmul(XX, W)\n",
    "\n",
    "\n",
    "\n",
    "#Model\n",
    "\n",
    "Y = tf.nn.softmax(mul_res + b)\n",
    "\n",
    "#Placeholder for the correct answers\n",
    "\n",
    "Y_ = tf.placeholder(tf.float32, [None,10])\n",
    "\n",
    "\n",
    "#Loss Function\n",
    "\n",
    "cross_entropy = -tf.reduce_sum(Y_ * tf.log(Y))\n",
    "\n",
    "#cross_entropy\n",
    "\n",
    "#% of correct answers found in batch\n",
    "\n",
    "is_correct = tf.equal(tf.argmax(Y,1), tf.argmax(Y_,1))\n",
    "\n",
    "accuracy = tf.reduce_mean(tf.cast(is_correct, tf.float32))\n",
    "\n",
    "#accuracy\n",
    "\n",
    "#learning rate 0.003\n",
    "\n",
    "optimizer = tf.train.GradientDescentOptimizer(0.003)\n",
    "\n",
    "#optimizer\n",
    "\n",
    "train_step = optimizer.minimize(cross_entropy)\n",
    "\n",
    "#train_step\n",
    "\n",
    "## Run Session\n",
    "\n",
    "sess = tf.Session()\n",
    "\n",
    "sess.run(init)\n",
    "\n",
    "for i in range(1000): # In every step gradient tries to minimize the cross entropy error\n",
    "    #load batch of images and correct answers\n",
    "\n",
    "    batch_X, batch_Y = mnist.train.next_batch(100)\n",
    "\n",
    "    #batch_X.shape\n",
    "\n",
    "    batch_X = np.reshape(batch_X, (-1, 28, 28, 1))\n",
    "\n",
    "    batch_Y = np.reshape(batch_Y, (-1, 10))\n",
    "\n",
    "    train_data = {X: batch_X, Y_: batch_Y}\n",
    "\n",
    "    #train\n",
    "\n",
    "    sess.run(train_step, feed_dict = train_data)\n",
    "\n",
    "    #success ?\n",
    "\n",
    "    a,c = sess.run([accuracy, cross_entropy], feed_dict=train_data)\n",
    "\n",
    "    #success on test data ?\n",
    "\n",
    "    test_batch_X = np.reshape(mnist.test.images, (-1, 28, 28, 1))\n",
    "\n",
    "    test_batch_Y = np.reshape(mnist.test.labels, (-1, 10))\n",
    "\n",
    "    test_data = {X:test_batch_X, Y_:test_batch_Y}\n",
    "\n",
    "    a,c = sess.run([accuracy, cross_entropy], feed_dict=test_data)"
   ]
  },
  {
   "cell_type": "code",
   "execution_count": 4,
   "metadata": {},
   "outputs": [
    {
     "data": {
      "text/plain": [
       "0.9241"
      ]
     },
     "execution_count": 4,
     "metadata": {},
     "output_type": "execute_result"
    }
   ],
   "source": [
    "a"
   ]
  }
 ],
 "metadata": {
  "kernelspec": {
   "display_name": "Python 3",
   "language": "python",
   "name": "python3"
  },
  "language_info": {
   "codemirror_mode": {
    "name": "ipython",
    "version": 3
   },
   "file_extension": ".py",
   "mimetype": "text/x-python",
   "name": "python",
   "nbconvert_exporter": "python",
   "pygments_lexer": "ipython3",
   "version": "3.7.3"
  },
  "toc": {
   "base_numbering": 1,
   "nav_menu": {},
   "number_sections": true,
   "sideBar": true,
   "skip_h1_title": false,
   "title_cell": "Table of Contents",
   "title_sidebar": "Contents",
   "toc_cell": false,
   "toc_position": {},
   "toc_section_display": true,
   "toc_window_display": false
  }
 },
 "nbformat": 4,
 "nbformat_minor": 2
}
